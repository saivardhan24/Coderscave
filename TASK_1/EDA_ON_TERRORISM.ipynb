{
 "cells": [
  {
   "cell_type": "markdown",
   "id": "59e5f8f8",
   "metadata": {},
   "source": [
    "## Importing required libraries"
   ]
  },
  {
   "cell_type": "code",
   "execution_count": 15,
   "id": "7f468d2c",
   "metadata": {},
   "outputs": [],
   "source": [
    "import pandas as pd\n",
    "import numpy as np\n",
    "import matplotlib.pyplot as plt\n",
    "import seaborn as sns\n"
   ]
  },
  {
   "cell_type": "markdown",
   "id": "b1246484",
   "metadata": {},
   "source": [
    "## Importing dataset\n",
    "Dataset link - https://www.kaggle.com/datasets/ddosad/global-terrorism-index-2023\n"
   ]
  },
  {
   "cell_type": "code",
   "execution_count": 16,
   "id": "97395f0a",
   "metadata": {},
   "outputs": [],
   "source": [
    "df = pd.read_excel(\"Global Terrorism Index 2023.xlsx\")"
   ]
  },
  {
   "cell_type": "markdown",
   "id": "f35d08f8",
   "metadata": {},
   "source": [
    "## Preview of the dataset"
   ]
  },
  {
   "cell_type": "code",
   "execution_count": 17,
   "id": "eb3523da",
   "metadata": {},
   "outputs": [
    {
     "data": {
      "text/html": [
       "<div>\n",
       "<style scoped>\n",
       "    .dataframe tbody tr th:only-of-type {\n",
       "        vertical-align: middle;\n",
       "    }\n",
       "\n",
       "    .dataframe tbody tr th {\n",
       "        vertical-align: top;\n",
       "    }\n",
       "\n",
       "    .dataframe thead th {\n",
       "        text-align: right;\n",
       "    }\n",
       "</style>\n",
       "<table border=\"1\" class=\"dataframe\">\n",
       "  <thead>\n",
       "    <tr style=\"text-align: right;\">\n",
       "      <th></th>\n",
       "      <th>iso3c</th>\n",
       "      <th>Country</th>\n",
       "      <th>Rank</th>\n",
       "      <th>Score</th>\n",
       "      <th>Incidents</th>\n",
       "      <th>Fatalities</th>\n",
       "      <th>Injuries</th>\n",
       "      <th>Hostages</th>\n",
       "      <th>Year</th>\n",
       "    </tr>\n",
       "  </thead>\n",
       "  <tbody>\n",
       "    <tr>\n",
       "      <th>0</th>\n",
       "      <td>IRQ</td>\n",
       "      <td>Iraq</td>\n",
       "      <td>1</td>\n",
       "      <td>9.599967</td>\n",
       "      <td>1288</td>\n",
       "      <td>2086</td>\n",
       "      <td>5050</td>\n",
       "      <td>16</td>\n",
       "      <td>2012</td>\n",
       "    </tr>\n",
       "    <tr>\n",
       "      <th>1</th>\n",
       "      <td>PAK</td>\n",
       "      <td>Pakistan</td>\n",
       "      <td>2</td>\n",
       "      <td>9.152620</td>\n",
       "      <td>638</td>\n",
       "      <td>1322</td>\n",
       "      <td>2297</td>\n",
       "      <td>160</td>\n",
       "      <td>2012</td>\n",
       "    </tr>\n",
       "    <tr>\n",
       "      <th>2</th>\n",
       "      <td>AFG</td>\n",
       "      <td>Afghanistan</td>\n",
       "      <td>3</td>\n",
       "      <td>9.134265</td>\n",
       "      <td>507</td>\n",
       "      <td>1511</td>\n",
       "      <td>2612</td>\n",
       "      <td>67</td>\n",
       "      <td>2012</td>\n",
       "    </tr>\n",
       "    <tr>\n",
       "      <th>3</th>\n",
       "      <td>SYR</td>\n",
       "      <td>Syria</td>\n",
       "      <td>4</td>\n",
       "      <td>8.238079</td>\n",
       "      <td>168</td>\n",
       "      <td>1014</td>\n",
       "      <td>1833</td>\n",
       "      <td>71</td>\n",
       "      <td>2012</td>\n",
       "    </tr>\n",
       "    <tr>\n",
       "      <th>4</th>\n",
       "      <td>YEM</td>\n",
       "      <td>Yemen</td>\n",
       "      <td>5</td>\n",
       "      <td>8.098513</td>\n",
       "      <td>219</td>\n",
       "      <td>651</td>\n",
       "      <td>798</td>\n",
       "      <td>121</td>\n",
       "      <td>2012</td>\n",
       "    </tr>\n",
       "    <tr>\n",
       "      <th>5</th>\n",
       "      <td>NGA</td>\n",
       "      <td>Nigeria</td>\n",
       "      <td>6</td>\n",
       "      <td>8.098342</td>\n",
       "      <td>212</td>\n",
       "      <td>767</td>\n",
       "      <td>496</td>\n",
       "      <td>9</td>\n",
       "      <td>2012</td>\n",
       "    </tr>\n",
       "    <tr>\n",
       "      <th>6</th>\n",
       "      <td>SOM</td>\n",
       "      <td>Somalia</td>\n",
       "      <td>7</td>\n",
       "      <td>7.964123</td>\n",
       "      <td>166</td>\n",
       "      <td>446</td>\n",
       "      <td>427</td>\n",
       "      <td>1</td>\n",
       "      <td>2012</td>\n",
       "    </tr>\n",
       "    <tr>\n",
       "      <th>7</th>\n",
       "      <td>IND</td>\n",
       "      <td>India</td>\n",
       "      <td>8</td>\n",
       "      <td>7.814715</td>\n",
       "      <td>219</td>\n",
       "      <td>150</td>\n",
       "      <td>256</td>\n",
       "      <td>41</td>\n",
       "      <td>2012</td>\n",
       "    </tr>\n",
       "    <tr>\n",
       "      <th>8</th>\n",
       "      <td>THA</td>\n",
       "      <td>Thailand</td>\n",
       "      <td>9</td>\n",
       "      <td>7.499810</td>\n",
       "      <td>199</td>\n",
       "      <td>184</td>\n",
       "      <td>493</td>\n",
       "      <td>0</td>\n",
       "      <td>2012</td>\n",
       "    </tr>\n",
       "    <tr>\n",
       "      <th>9</th>\n",
       "      <td>RUS</td>\n",
       "      <td>Russia</td>\n",
       "      <td>10</td>\n",
       "      <td>7.490145</td>\n",
       "      <td>219</td>\n",
       "      <td>157</td>\n",
       "      <td>309</td>\n",
       "      <td>3</td>\n",
       "      <td>2012</td>\n",
       "    </tr>\n",
       "  </tbody>\n",
       "</table>\n",
       "</div>"
      ],
      "text/plain": [
       "  iso3c      Country  Rank     Score  Incidents  Fatalities  Injuries  \\\n",
       "0   IRQ         Iraq     1  9.599967       1288        2086      5050   \n",
       "1   PAK     Pakistan     2  9.152620        638        1322      2297   \n",
       "2   AFG  Afghanistan     3  9.134265        507        1511      2612   \n",
       "3   SYR        Syria     4  8.238079        168        1014      1833   \n",
       "4   YEM        Yemen     5  8.098513        219         651       798   \n",
       "5   NGA      Nigeria     6  8.098342        212         767       496   \n",
       "6   SOM      Somalia     7  7.964123        166         446       427   \n",
       "7   IND        India     8  7.814715        219         150       256   \n",
       "8   THA     Thailand     9  7.499810        199         184       493   \n",
       "9   RUS       Russia    10  7.490145        219         157       309   \n",
       "\n",
       "   Hostages  Year  \n",
       "0        16  2012  \n",
       "1       160  2012  \n",
       "2        67  2012  \n",
       "3        71  2012  \n",
       "4       121  2012  \n",
       "5         9  2012  \n",
       "6         1  2012  \n",
       "7        41  2012  \n",
       "8         0  2012  \n",
       "9         3  2012  "
      ]
     },
     "execution_count": 17,
     "metadata": {},
     "output_type": "execute_result"
    }
   ],
   "source": [
    "df.head(10)"
   ]
  },
  {
   "cell_type": "markdown",
   "id": "070e53aa",
   "metadata": {},
   "source": [
    "#### Overview of data:\n",
    "1. iso3c: ISO 3166-1 alpha-3 code of the country where the incident occurred.\n",
    "2. Country: Name of the country where the incident occurred.\n",
    "3. Rank: Rank of the country based on the number of incidents.\n",
    "4. Score: Score of the country based on the number of incidents, fatalities, injuries, and hostages.\n",
    "5. Incidents: Number of terrorist incidents in the country.\n",
    "6. Fatalities: Number of fatalities due to terrorist incidents in the country.\n",
    "7. Injuries: Number of injuries due to terrorist incidents in the country.\n",
    "8. Hostages: Number of hostages taken due to terrorist incidents in the country.\n",
    "9. Year: Year in which the terrorist incident occurred."
   ]
  },
  {
   "cell_type": "markdown",
   "id": "c65f7f49",
   "metadata": {},
   "source": [
    "## Data Exploratoin:"
   ]
  },
  {
   "cell_type": "code",
   "execution_count": 18,
   "id": "80572ac6",
   "metadata": {},
   "outputs": [
    {
     "name": "stdout",
     "output_type": "stream",
     "text": [
      "<class 'pandas.core.frame.DataFrame'>\n",
      "RangeIndex: 1793 entries, 0 to 1792\n",
      "Data columns (total 9 columns):\n",
      " #   Column      Non-Null Count  Dtype  \n",
      "---  ------      --------------  -----  \n",
      " 0   iso3c       1793 non-null   object \n",
      " 1   Country     1793 non-null   object \n",
      " 2   Rank        1793 non-null   int64  \n",
      " 3   Score       1793 non-null   float64\n",
      " 4   Incidents   1793 non-null   int64  \n",
      " 5   Fatalities  1793 non-null   int64  \n",
      " 6   Injuries    1793 non-null   int64  \n",
      " 7   Hostages    1793 non-null   int64  \n",
      " 8   Year        1793 non-null   int64  \n",
      "dtypes: float64(1), int64(6), object(2)\n",
      "memory usage: 126.2+ KB\n"
     ]
    }
   ],
   "source": [
    "df.info()"
   ]
  },
  {
   "cell_type": "code",
   "execution_count": 19,
   "id": "3c2a4b15",
   "metadata": {},
   "outputs": [
    {
     "data": {
      "text/html": [
       "<div>\n",
       "<style scoped>\n",
       "    .dataframe tbody tr th:only-of-type {\n",
       "        vertical-align: middle;\n",
       "    }\n",
       "\n",
       "    .dataframe tbody tr th {\n",
       "        vertical-align: top;\n",
       "    }\n",
       "\n",
       "    .dataframe thead th {\n",
       "        text-align: right;\n",
       "    }\n",
       "</style>\n",
       "<table border=\"1\" class=\"dataframe\">\n",
       "  <thead>\n",
       "    <tr style=\"text-align: right;\">\n",
       "      <th></th>\n",
       "      <th>Rank</th>\n",
       "      <th>Score</th>\n",
       "      <th>Incidents</th>\n",
       "      <th>Fatalities</th>\n",
       "      <th>Injuries</th>\n",
       "      <th>Hostages</th>\n",
       "      <th>Year</th>\n",
       "    </tr>\n",
       "  </thead>\n",
       "  <tbody>\n",
       "    <tr>\n",
       "      <th>count</th>\n",
       "      <td>1793.000000</td>\n",
       "      <td>1793.000000</td>\n",
       "      <td>1793.000000</td>\n",
       "      <td>1793.000000</td>\n",
       "      <td>1793.000000</td>\n",
       "      <td>1793.000000</td>\n",
       "      <td>1793.00000</td>\n",
       "    </tr>\n",
       "    <tr>\n",
       "      <th>mean</th>\n",
       "      <td>71.691578</td>\n",
       "      <td>2.442817</td>\n",
       "      <td>26.699944</td>\n",
       "      <td>53.537646</td>\n",
       "      <td>74.588957</td>\n",
       "      <td>10.149470</td>\n",
       "      <td>2017.00000</td>\n",
       "    </tr>\n",
       "    <tr>\n",
       "      <th>std</th>\n",
       "      <td>35.235705</td>\n",
       "      <td>2.654876</td>\n",
       "      <td>109.500965</td>\n",
       "      <td>253.912698</td>\n",
       "      <td>415.669549</td>\n",
       "      <td>82.306937</td>\n",
       "      <td>3.16316</td>\n",
       "    </tr>\n",
       "    <tr>\n",
       "      <th>min</th>\n",
       "      <td>1.000000</td>\n",
       "      <td>0.000000</td>\n",
       "      <td>0.000000</td>\n",
       "      <td>0.000000</td>\n",
       "      <td>0.000000</td>\n",
       "      <td>0.000000</td>\n",
       "      <td>2012.00000</td>\n",
       "    </tr>\n",
       "    <tr>\n",
       "      <th>25%</th>\n",
       "      <td>41.000000</td>\n",
       "      <td>0.000000</td>\n",
       "      <td>0.000000</td>\n",
       "      <td>0.000000</td>\n",
       "      <td>0.000000</td>\n",
       "      <td>0.000000</td>\n",
       "      <td>2014.00000</td>\n",
       "    </tr>\n",
       "    <tr>\n",
       "      <th>50%</th>\n",
       "      <td>82.000000</td>\n",
       "      <td>1.534965</td>\n",
       "      <td>0.000000</td>\n",
       "      <td>0.000000</td>\n",
       "      <td>0.000000</td>\n",
       "      <td>0.000000</td>\n",
       "      <td>2017.00000</td>\n",
       "    </tr>\n",
       "    <tr>\n",
       "      <th>75%</th>\n",
       "      <td>106.000000</td>\n",
       "      <td>4.419243</td>\n",
       "      <td>4.000000</td>\n",
       "      <td>2.000000</td>\n",
       "      <td>4.000000</td>\n",
       "      <td>0.000000</td>\n",
       "      <td>2020.00000</td>\n",
       "    </tr>\n",
       "    <tr>\n",
       "      <th>max</th>\n",
       "      <td>112.000000</td>\n",
       "      <td>10.000000</td>\n",
       "      <td>1673.000000</td>\n",
       "      <td>4514.000000</td>\n",
       "      <td>9479.000000</td>\n",
       "      <td>2727.000000</td>\n",
       "      <td>2022.00000</td>\n",
       "    </tr>\n",
       "  </tbody>\n",
       "</table>\n",
       "</div>"
      ],
      "text/plain": [
       "              Rank        Score    Incidents   Fatalities     Injuries  \\\n",
       "count  1793.000000  1793.000000  1793.000000  1793.000000  1793.000000   \n",
       "mean     71.691578     2.442817    26.699944    53.537646    74.588957   \n",
       "std      35.235705     2.654876   109.500965   253.912698   415.669549   \n",
       "min       1.000000     0.000000     0.000000     0.000000     0.000000   \n",
       "25%      41.000000     0.000000     0.000000     0.000000     0.000000   \n",
       "50%      82.000000     1.534965     0.000000     0.000000     0.000000   \n",
       "75%     106.000000     4.419243     4.000000     2.000000     4.000000   \n",
       "max     112.000000    10.000000  1673.000000  4514.000000  9479.000000   \n",
       "\n",
       "          Hostages        Year  \n",
       "count  1793.000000  1793.00000  \n",
       "mean     10.149470  2017.00000  \n",
       "std      82.306937     3.16316  \n",
       "min       0.000000  2012.00000  \n",
       "25%       0.000000  2014.00000  \n",
       "50%       0.000000  2017.00000  \n",
       "75%       0.000000  2020.00000  \n",
       "max    2727.000000  2022.00000  "
      ]
     },
     "execution_count": 19,
     "metadata": {},
     "output_type": "execute_result"
    }
   ],
   "source": [
    "df.describe()"
   ]
  },
  {
   "cell_type": "code",
   "execution_count": 20,
   "id": "3c7e5c6d",
   "metadata": {},
   "outputs": [
    {
     "data": {
      "text/plain": [
       "Index(['iso3c', 'Country', 'Rank', 'Score', 'Incidents', 'Fatalities',\n",
       "       'Injuries', 'Hostages', 'Year'],\n",
       "      dtype='object')"
      ]
     },
     "execution_count": 20,
     "metadata": {},
     "output_type": "execute_result"
    }
   ],
   "source": [
    "df.columns"
   ]
  },
  {
   "cell_type": "code",
   "execution_count": 21,
   "id": "b991f6b3",
   "metadata": {},
   "outputs": [
    {
     "data": {
      "text/plain": [
       "iso3c          object\n",
       "Country        object\n",
       "Rank            int64\n",
       "Score         float64\n",
       "Incidents       int64\n",
       "Fatalities      int64\n",
       "Injuries        int64\n",
       "Hostages        int64\n",
       "Year            int64\n",
       "dtype: object"
      ]
     },
     "execution_count": 21,
     "metadata": {},
     "output_type": "execute_result"
    }
   ],
   "source": [
    "df.dtypes"
   ]
  },
  {
   "cell_type": "code",
   "execution_count": 22,
   "id": "7e52295d",
   "metadata": {},
   "outputs": [
    {
     "data": {
      "text/plain": [
       "(1793, 9)"
      ]
     },
     "execution_count": 22,
     "metadata": {},
     "output_type": "execute_result"
    }
   ],
   "source": [
    "df.shape"
   ]
  },
  {
   "cell_type": "markdown",
   "id": "1489f085",
   "metadata": {},
   "source": [
    "## Data Preprocessing:\n",
    "1. Checking for missing values\n",
    "2. Removing duplicates"
   ]
  },
  {
   "cell_type": "code",
   "execution_count": 23,
   "id": "ed02c52b",
   "metadata": {},
   "outputs": [
    {
     "data": {
      "text/plain": [
       "iso3c         0\n",
       "Country       0\n",
       "Rank          0\n",
       "Score         0\n",
       "Incidents     0\n",
       "Fatalities    0\n",
       "Injuries      0\n",
       "Hostages      0\n",
       "Year          0\n",
       "dtype: int64"
      ]
     },
     "execution_count": 23,
     "metadata": {},
     "output_type": "execute_result"
    }
   ],
   "source": [
    "# Checking for missing values\n",
    "df.isnull().sum()"
   ]
  },
  {
   "cell_type": "markdown",
   "id": "bb33b6f5",
   "metadata": {},
   "source": [
    "### Insights:\n",
    "* There are no missing values in the data."
   ]
  },
  {
   "cell_type": "code",
   "execution_count": 24,
   "id": "7a579bae",
   "metadata": {},
   "outputs": [],
   "source": [
    "# Removing duplicate values\n",
    "df.drop_duplicates(inplace=True)"
   ]
  },
  {
   "cell_type": "code",
   "execution_count": 25,
   "id": "d07b9512",
   "metadata": {},
   "outputs": [
    {
     "data": {
      "text/html": [
       "<div>\n",
       "<style scoped>\n",
       "    .dataframe tbody tr th:only-of-type {\n",
       "        vertical-align: middle;\n",
       "    }\n",
       "\n",
       "    .dataframe tbody tr th {\n",
       "        vertical-align: top;\n",
       "    }\n",
       "\n",
       "    .dataframe thead th {\n",
       "        text-align: right;\n",
       "    }\n",
       "</style>\n",
       "<table border=\"1\" class=\"dataframe\">\n",
       "  <thead>\n",
       "    <tr style=\"text-align: right;\">\n",
       "      <th></th>\n",
       "      <th>iso3c</th>\n",
       "      <th>Country</th>\n",
       "      <th>Rank</th>\n",
       "      <th>Score</th>\n",
       "      <th>Incidents</th>\n",
       "      <th>Fatalities</th>\n",
       "      <th>Injuries</th>\n",
       "      <th>Hostages</th>\n",
       "      <th>Year</th>\n",
       "    </tr>\n",
       "  </thead>\n",
       "  <tbody>\n",
       "    <tr>\n",
       "      <th>0</th>\n",
       "      <td>IRQ</td>\n",
       "      <td>Iraq</td>\n",
       "      <td>1</td>\n",
       "      <td>9.599967</td>\n",
       "      <td>1288</td>\n",
       "      <td>2086</td>\n",
       "      <td>5050</td>\n",
       "      <td>16</td>\n",
       "      <td>2012</td>\n",
       "    </tr>\n",
       "    <tr>\n",
       "      <th>1</th>\n",
       "      <td>PAK</td>\n",
       "      <td>Pakistan</td>\n",
       "      <td>2</td>\n",
       "      <td>9.152620</td>\n",
       "      <td>638</td>\n",
       "      <td>1322</td>\n",
       "      <td>2297</td>\n",
       "      <td>160</td>\n",
       "      <td>2012</td>\n",
       "    </tr>\n",
       "  </tbody>\n",
       "</table>\n",
       "</div>"
      ],
      "text/plain": [
       "  iso3c   Country  Rank     Score  Incidents  Fatalities  Injuries  Hostages  \\\n",
       "0   IRQ      Iraq     1  9.599967       1288        2086      5050        16   \n",
       "1   PAK  Pakistan     2  9.152620        638        1322      2297       160   \n",
       "\n",
       "   Year  \n",
       "0  2012  \n",
       "1  2012  "
      ]
     },
     "execution_count": 25,
     "metadata": {},
     "output_type": "execute_result"
    }
   ],
   "source": [
    "df.head(2)"
   ]
  },
  {
   "cell_type": "markdown",
   "id": "5773a123",
   "metadata": {},
   "source": [
    "## Data Visualization and Analysis\n",
    "1. To get insights towards year\n",
    "2. To get insights towards country"
   ]
  },
  {
   "cell_type": "code",
   "execution_count": 26,
   "id": "f2342958",
   "metadata": {},
   "outputs": [],
   "source": [
    "# Grouping number of Incidents, Fatalities, Injuries and Hostages by year\n",
    "Incidents_by_year = df.groupby(df[\"Year\"])[\"Incidents\"].sum()\n",
    "Fatalities_by_year = df.groupby(df[\"Year\"])[\"Fatalities\"].sum()\n",
    "Injuries_by_year = df.groupby(df[\"Year\"])[\"Injuries\"].sum()\n",
    "Hostages_by_year = df.groupby(df[\"Year\"])[\"Hostages\"].sum()"
   ]
  },
  {
   "cell_type": "code",
   "execution_count": 27,
   "id": "e0a28186",
   "metadata": {},
   "outputs": [
    {
     "name": "stdout",
     "output_type": "stream",
     "text": [
      "incidents by year : Year\n",
      "2012    4711\n",
      "2013    4371\n",
      "2014    3546\n",
      "2015    3632\n",
      "2016    4210\n",
      "2017    4517\n",
      "2018    4829\n",
      "2019    4118\n",
      "2020    4541\n",
      "2021    5443\n",
      "2022    3955\n",
      "Name: Incidents, dtype: int64\n",
      "----------------------\n",
      "fatalities by year : Year\n",
      "2012     9227\n",
      "2013    10317\n",
      "2014    10129\n",
      "2015    10881\n",
      "2016    10372\n",
      "2017     8932\n",
      "2018     7480\n",
      "2019     7193\n",
      "2020     7433\n",
      "2021     7328\n",
      "2022     6701\n",
      "Name: Fatalities, dtype: int64\n",
      "----------------------\n",
      "injuries by year : Year\n",
      "2012    16915\n",
      "2013    19304\n",
      "2014    13827\n",
      "2015    17473\n",
      "2016    10372\n",
      "2017    14583\n",
      "2018    10978\n",
      "2019     9350\n",
      "2020     7660\n",
      "2021     7283\n",
      "2022     5993\n",
      "Name: Injuries, dtype: int64\n",
      "----------------------\n",
      "hostages by year : Year\n",
      "2012     800\n",
      "2013     734\n",
      "2014     853\n",
      "2015    1709\n",
      "2016     403\n",
      "2017     572\n",
      "2018    1544\n",
      "2019    9350\n",
      "2020    1301\n",
      "2021     599\n",
      "2022     333\n",
      "Name: Hostages, dtype: int64\n"
     ]
    }
   ],
   "source": [
    "print(f'incidents by year : {Incidents_by_year}')\n",
    "print('----------------------')\n",
    "print(f'fatalities by year : {Fatalities_by_year}')\n",
    "print('----------------------')\n",
    "print(f'injuries by year : {Injuries_by_year}')\n",
    "print('----------------------')\n",
    "print(f'hostages by year : {Hostages_by_year}')"
   ]
  },
  {
   "cell_type": "code",
   "execution_count": 28,
   "id": "a93418e1",
   "metadata": {},
   "outputs": [
    {
     "data": {
      "image/png": "[encoded data removed]",
      "text/plain": [
       "<Figure size 640x480 with 1 Axes>"
      ]
     },
     "metadata": {},
     "output_type": "display_data"
    },
    {
     "name": "stdout",
     "output_type": "stream",
     "text": [
      "heighest year : 2012 with : 112\n"
     ]
    }
   ],
   "source": [
    "plt.scatter(df['Year'], df['Rank'])\n",
    "maximum = dict()\n",
    "for year in df['Year']:\n",
    "    max_score = df[df['Year'] == year]['Rank'].max()\n",
    "    maximum[year] = max_score\n",
    "    plt.plot(year, max_score, marker='o', markersize=10, color=\"red\")\n",
    "plt.plot(max(maximum,key=maximum.get),maximum[max(maximum,key=maximum.get)], marker='o', markersize=10, color=\"green\")\n",
    "plt.title('Rank by year')\n",
    "plt.xlabel('Year')\n",
    "plt.ylabel('Rank')\n",
    "plt.show()\n",
    "print(f'heighest year : {max(maximum,key=maximum.get)} with : {maximum[max(maximum,key=maximum.get)]}')"
   ]
  },
  {
   "cell_type": "markdown",
   "id": "e05cdc87",
   "metadata": {},
   "source": [
    "### Insights:\n",
    "* from this we can say that in 2012 it has recoreded high rank of 112"
   ]
  },
  {
   "cell_type": "code",
   "execution_count": 32,
   "id": "806df372",
   "metadata": {},
   "outputs": [
    {
     "data": {
      "image/png": "[encoded data removed]",
      "text/plain": [
       "<Figure size 1200x600 with 1 Axes>"
      ]
     },
     "metadata": {},
     "output_type": "display_data"
    }
   ],
   "source": [
    "# Same as above plot\n",
    "plt.figure(figsize=(12, 6))\n",
    "plt.bar(df['Year'],df['Rank'])\n",
    "plt.title('Rank by Year')\n",
    "plt.xlabel('Year')\n",
    "plt.ylabel('Rank')\n",
    "plt.xticks(rotation=90)\n",
    "plt.show()"
   ]
  },
  {
   "cell_type": "code",
   "execution_count": 33,
   "id": "d548280f",
   "metadata": {},
   "outputs": [
    {
     "data": {
      "image/png": "[encoded data removed]",
      "text/plain": [
       "<Figure size 640x480 with 1 Axes>"
      ]
     },
     "metadata": {},
     "output_type": "display_data"
    },
    {
     "name": "stdout",
     "output_type": "stream",
     "text": [
      "heighest year : 2016 with : 10.0\n"
     ]
    }
   ],
   "source": [
    "plt.scatter(df['Year'], df['Score'])\n",
    "maximum = dict()\n",
    "for year in df['Year']:\n",
    "    max_score = df[df['Year'] == year]['Score'].max()\n",
    "    maximum[year] = max_score\n",
    "    plt.plot(year, max_score, marker='o', markersize=10, color=\"red\")\n",
    "plt.plot(max(maximum,key=maximum.get),maximum[max(maximum,key=maximum.get)], marker='o', markersize=10, color=\"green\")\n",
    "plt.title('Score by Year')\n",
    "plt.xlabel('Year')\n",
    "plt.ylabel('Score')\n",
    "plt.show()\n",
    "print(f'heighest year : {max(maximum,key=maximum.get)} with : {maximum[max(maximum,key=maximum.get)]}')"
   ]
  },
  {
   "cell_type": "markdown",
   "id": "74f958cf",
   "metadata": {},
   "source": [
    "### Insights:\n",
    "* Year 2016 has the highest score - here score is: Score of the country based on the number of incidents, fatalities, injuries, and hostages.\n"
   ]
  },
  {
   "cell_type": "code",
   "execution_count": 34,
   "id": "73eea600",
   "metadata": {},
   "outputs": [
    {
     "data": {
      "image/png": "[encoded data removed]",
      "text/plain": [
       "<Figure size 640x480 with 1 Axes>"
      ]
     },
     "metadata": {},
     "output_type": "display_data"
    },
    {
     "name": "stdout",
     "output_type": "stream",
     "text": [
      "heighest time in year : 2013 with : 9479 injury\n"
     ]
    }
   ],
   "source": [
    "plt.scatter(df['Year'],df['Injuries'])\n",
    "maximum = dict()\n",
    "for year in df['Year']:\n",
    "    max_score = df[df['Year'] == year]['Injuries'].max()\n",
    "    maximum[year] = max_score\n",
    "    plt.plot(year, max_score, marker='o', markersize=10, color=\"red\")\n",
    "plt.plot(max(maximum,key=maximum.get),maximum[max(maximum,key=maximum.get)], marker='o', markersize=10, color=\"green\")\n",
    "plt.title('Injuries by Year')\n",
    "plt.xlabel('Year')\n",
    "plt.ylabel('Injries')\n",
    "plt.show()\n",
    "print(f'heighest time in year : {max(maximum,key=maximum.get)} with : {maximum[max(maximum,key=maximum.get)]} injury')"
   ]
  },
  {
   "cell_type": "code",
   "execution_count": 44,
   "id": "e4e225e8",
   "metadata": {},
   "outputs": [
    {
     "data": {
      "image/png": "[encoded data removed]",
      "text/plain": [
       "<Figure size 640x480 with 1 Axes>"
      ]
     },
     "metadata": {},
     "output_type": "display_data"
    },
    {
     "name": "stdout",
     "output_type": "stream",
     "text": [
      "heighest injuries in year : 2013 with : 19304 injury\n"
     ]
    }
   ],
   "source": [
    "# Filter out None (or missing) values before finding the maximum\n",
    "injuries_by_year2 = {year: count for year, count in Injuries_by_year.items() if count is not None}\n",
    "\n",
    "# Find the year with the maximum injuries\n",
    "year_with_max_injuries = max(injuries_by_year2, key=injuries_by_year2.get)\n",
    "\n",
    "plt.scatter(df['Year'].unique(), Injuries_by_year)\n",
    "plt.plot(year_with_max_injuries,Injuries_by_year.max(), marker='o', markersize=10, color=\"green\")\n",
    "plt.title('Injuries by Year')\n",
    "plt.xlabel('Year')\n",
    "plt.ylabel('Injuries ')\n",
    "plt.show()\n",
    "plt.show()\n",
    "print(f'heighest injuries in year : {year_with_max_injuries} with : {Injuries_by_year.max()} injury')"
   ]
  },
  {
   "cell_type": "markdown",
   "id": "a9e9baff",
   "metadata": {},
   "source": [
    "### Insights:\n",
    "* Year 2013 has recoreded the high rate of injuries i.e 19304"
   ]
  },
  {
   "cell_type": "code",
   "execution_count": 36,
   "id": "96832c16",
   "metadata": {},
   "outputs": [
    {
     "data": {
      "image/png": "[encoded data removed]",
      "text/plain": [
       "<Figure size 1200x600 with 1 Axes>"
      ]
     },
     "metadata": {},
     "output_type": "display_data"
    },
    {
     "name": "stdout",
     "output_type": "stream",
     "text": [
      "heighest time in year : 2013 with 1673 incident\n"
     ]
    }
   ],
   "source": [
    "plt.figure(figsize=(12,6))\n",
    "plt.scatter(df['Year'],df['Incidents'])\n",
    "maximum = dict()\n",
    "for year in df['Year']:\n",
    "    max_score = df[df['Year'] == year]['Incidents'].max()\n",
    "    maximum[year] = max_score\n",
    "    plt.plot(year, max_score, marker='o', markersize=10, color=\"red\")\n",
    "plt.plot(max(maximum,key=maximum.get),maximum[max(maximum,key=maximum.get)], marker='o', markersize=10, color=\"green\")\n",
    "plt.title('Incidents by Year')\n",
    "plt.xlabel('Incidents')\n",
    "plt.ylabel('Year')\n",
    "plt.xticks(rotation=90)\n",
    "plt.show()\n",
    "print(f'heighest time in year : {max(maximum,key=maximum.get)} with {maximum[max(maximum,key=maximum.get)]} incident')"
   ]
  },
  {
   "cell_type": "code",
   "execution_count": 45,
   "id": "2530c375",
   "metadata": {},
   "outputs": [
    {
     "data": {
      "image/png": "[encoded data removed]",
      "text/plain": [
       "<Figure size 640x480 with 1 Axes>"
      ]
     },
     "metadata": {},
     "output_type": "display_data"
    },
    {
     "name": "stdout",
     "output_type": "stream",
     "text": [
      "heighest incidents in year : 2021 with : 5443 incident\n"
     ]
    }
   ],
   "source": [
    "incidents_by_year2 = {year: count for year, count in Incidents_by_year.items() if count is not None}\n",
    "\n",
    "year_with_max_incidents = max(incidents_by_year2, key=incidents_by_year2.get)\n",
    "\n",
    "plt.scatter(df['Year'].unique(), Incidents_by_year)\n",
    "plt.plot(year_with_max_incidents,Incidents_by_year.max(), marker='o', markersize=10, color=\"green\")\n",
    "plt.title('Incidents by Year')\n",
    "plt.xlabel('Year')\n",
    "plt.ylabel('Incidents ')\n",
    "plt.show()\n",
    "plt.show()\n",
    "print(f'heighest incidents in year : {year_with_max_incidents} with : {Incidents_by_year.max()} incident')"
   ]
  },
  {
   "cell_type": "markdown",
   "id": "7ab661c8",
   "metadata": {},
   "source": [
    "### Insights:\n",
    "* Year 2021 has recorded high number of incidents of 5443"
   ]
  },
  {
   "cell_type": "code",
   "execution_count": 37,
   "id": "fcf08557",
   "metadata": {},
   "outputs": [
    {
     "data": {
      "text/html": [
       "<div>\n",
       "<style scoped>\n",
       "    .dataframe tbody tr th:only-of-type {\n",
       "        vertical-align: middle;\n",
       "    }\n",
       "\n",
       "    .dataframe tbody tr th {\n",
       "        vertical-align: top;\n",
       "    }\n",
       "\n",
       "    .dataframe thead th {\n",
       "        text-align: right;\n",
       "    }\n",
       "</style>\n",
       "<table border=\"1\" class=\"dataframe\">\n",
       "  <thead>\n",
       "    <tr style=\"text-align: right;\">\n",
       "      <th></th>\n",
       "      <th>iso3c</th>\n",
       "      <th>Country</th>\n",
       "      <th>Rank</th>\n",
       "      <th>Score</th>\n",
       "      <th>Incidents</th>\n",
       "      <th>Fatalities</th>\n",
       "      <th>Injuries</th>\n",
       "      <th>Hostages</th>\n",
       "      <th>Year</th>\n",
       "    </tr>\n",
       "  </thead>\n",
       "  <tbody>\n",
       "    <tr>\n",
       "      <th>0</th>\n",
       "      <td>IRQ</td>\n",
       "      <td>Iraq</td>\n",
       "      <td>1</td>\n",
       "      <td>9.599967</td>\n",
       "      <td>1288</td>\n",
       "      <td>2086</td>\n",
       "      <td>5050</td>\n",
       "      <td>16</td>\n",
       "      <td>2012</td>\n",
       "    </tr>\n",
       "    <tr>\n",
       "      <th>1</th>\n",
       "      <td>PAK</td>\n",
       "      <td>Pakistan</td>\n",
       "      <td>2</td>\n",
       "      <td>9.152620</td>\n",
       "      <td>638</td>\n",
       "      <td>1322</td>\n",
       "      <td>2297</td>\n",
       "      <td>160</td>\n",
       "      <td>2012</td>\n",
       "    </tr>\n",
       "  </tbody>\n",
       "</table>\n",
       "</div>"
      ],
      "text/plain": [
       "  iso3c   Country  Rank     Score  Incidents  Fatalities  Injuries  Hostages  \\\n",
       "0   IRQ      Iraq     1  9.599967       1288        2086      5050        16   \n",
       "1   PAK  Pakistan     2  9.152620        638        1322      2297       160   \n",
       "\n",
       "   Year  \n",
       "0  2012  \n",
       "1  2012  "
      ]
     },
     "execution_count": 37,
     "metadata": {},
     "output_type": "execute_result"
    }
   ],
   "source": [
    "df.head(2)"
   ]
  },
  {
   "cell_type": "code",
   "execution_count": 38,
   "id": "166e205c",
   "metadata": {},
   "outputs": [
    {
     "data": {
      "image/png": "[encoded data removed]",
      "text/plain": [
       "<Figure size 1200x600 with 1 Axes>"
      ]
     },
     "metadata": {},
     "output_type": "display_data"
    },
    {
     "name": "stdout",
     "output_type": "stream",
     "text": [
      "heighest time in year : 2016 with 4514 fatalities\n"
     ]
    }
   ],
   "source": [
    "plt.figure(figsize=(12,6))\n",
    "plt.scatter(df['Year'],df['Fatalities'])\n",
    "maximum = dict()\n",
    "for year in df['Year']:\n",
    "    max_score = df[df['Year'] == year]['Fatalities'].max()\n",
    "    maximum[year] = max_score\n",
    "    plt.plot(year, max_score, marker='o', markersize=10, color=\"red\")\n",
    "plt.plot(max(maximum,key=maximum.get),maximum[max(maximum,key=maximum.get)], marker='o', markersize=10, color=\"green\")\n",
    "plt.title('Fatalities by Year')\n",
    "plt.xlabel('Fatalities')\n",
    "plt.ylabel('Year')\n",
    "plt.xticks(rotation=90)\n",
    "plt.show()\n",
    "print(f'heighest time in year : {max(maximum,key=maximum.get)} with {maximum[max(maximum,key=maximum.get)]} fatalities')"
   ]
  },
  {
   "cell_type": "code",
   "execution_count": 46,
   "id": "a466a4b0",
   "metadata": {},
   "outputs": [
    {
     "data": {
      "image/png": "[encoded data removed]",
      "text/plain": [
       "<Figure size 640x480 with 1 Axes>"
      ]
     },
     "metadata": {},
     "output_type": "display_data"
    },
    {
     "name": "stdout",
     "output_type": "stream",
     "text": [
      "heighest fatalities in year : 2015 with : 10881 fatalities\n"
     ]
    }
   ],
   "source": [
    "Fatalities_by_year_2 = {year: count for year, count in Fatalities_by_year.items() if count is not None}\n",
    "\n",
    "year_with_max_fatalities = max(Fatalities_by_year_2, key=Fatalities_by_year_2.get)\n",
    "\n",
    "plt.scatter(df['Year'].unique(), Fatalities_by_year)\n",
    "plt.plot(year_with_max_fatalities,Fatalities_by_year.max(), marker='o', markersize=10, color=\"green\")\n",
    "plt.title('Fatalities by Year')\n",
    "plt.xlabel('Year')\n",
    "plt.ylabel('Fatalities ')\n",
    "plt.show()\n",
    "plt.show()\n",
    "print(f'heighest fatalities in year : {year_with_max_fatalities} with : {Fatalities_by_year.max()} fatalities')"
   ]
  },
  {
   "cell_type": "markdown",
   "id": "6fefe7a3",
   "metadata": {},
   "source": [
    "### Insights:\n",
    "* Year 2015 has recoreded more number of death due to terrorism i.e 10881 fatalities."
   ]
  },
  {
   "cell_type": "code",
   "execution_count": 47,
   "id": "a3ddd9a7",
   "metadata": {},
   "outputs": [
    {
     "data": {
      "text/html": [
       "<div>\n",
       "<style scoped>\n",
       "    .dataframe tbody tr th:only-of-type {\n",
       "        vertical-align: middle;\n",
       "    }\n",
       "\n",
       "    .dataframe tbody tr th {\n",
       "        vertical-align: top;\n",
       "    }\n",
       "\n",
       "    .dataframe thead th {\n",
       "        text-align: right;\n",
       "    }\n",
       "</style>\n",
       "<table border=\"1\" class=\"dataframe\">\n",
       "  <thead>\n",
       "    <tr style=\"text-align: right;\">\n",
       "      <th></th>\n",
       "      <th>iso3c</th>\n",
       "      <th>Country</th>\n",
       "      <th>Rank</th>\n",
       "      <th>Score</th>\n",
       "      <th>Incidents</th>\n",
       "      <th>Fatalities</th>\n",
       "      <th>Injuries</th>\n",
       "      <th>Hostages</th>\n",
       "      <th>Year</th>\n",
       "    </tr>\n",
       "  </thead>\n",
       "  <tbody>\n",
       "    <tr>\n",
       "      <th>0</th>\n",
       "      <td>IRQ</td>\n",
       "      <td>Iraq</td>\n",
       "      <td>1</td>\n",
       "      <td>9.599967</td>\n",
       "      <td>1288</td>\n",
       "      <td>2086</td>\n",
       "      <td>5050</td>\n",
       "      <td>16</td>\n",
       "      <td>2012</td>\n",
       "    </tr>\n",
       "    <tr>\n",
       "      <th>1</th>\n",
       "      <td>PAK</td>\n",
       "      <td>Pakistan</td>\n",
       "      <td>2</td>\n",
       "      <td>9.152620</td>\n",
       "      <td>638</td>\n",
       "      <td>1322</td>\n",
       "      <td>2297</td>\n",
       "      <td>160</td>\n",
       "      <td>2012</td>\n",
       "    </tr>\n",
       "  </tbody>\n",
       "</table>\n",
       "</div>"
      ],
      "text/plain": [
       "  iso3c   Country  Rank     Score  Incidents  Fatalities  Injuries  Hostages  \\\n",
       "0   IRQ      Iraq     1  9.599967       1288        2086      5050        16   \n",
       "1   PAK  Pakistan     2  9.152620        638        1322      2297       160   \n",
       "\n",
       "   Year  \n",
       "0  2012  \n",
       "1  2012  "
      ]
     },
     "execution_count": 47,
     "metadata": {},
     "output_type": "execute_result"
    }
   ],
   "source": [
    "df.head(2)"
   ]
  },
  {
   "cell_type": "code",
   "execution_count": 48,
   "id": "b659417c",
   "metadata": {},
   "outputs": [],
   "source": [
    "# Grouping number of Incidents, Fatalities, Injuries and Hostages by country\n",
    "Incidents_by_country = df.groupby(df[\"Country\"])[\"Incidents\"].sum()\n",
    "Fatalities_by_country = df.groupby(df[\"Country\"])[\"Fatalities\"].sum()\n",
    "Injuries_by_country = df.groupby(df[\"Country\"])[\"Injuries\"].sum()\n",
    "Hostages_by_country = df.groupby(df[\"Country\"])[\"Hostages\"].sum()"
   ]
  },
  {
   "cell_type": "code",
   "execution_count": 49,
   "id": "6b4532dc",
   "metadata": {},
   "outputs": [
    {
     "name": "stdout",
     "output_type": "stream",
     "text": [
      "incidents by country : Country\n",
      "Afghanistan    4443\n",
      "Albania           0\n",
      "Algeria         111\n",
      "Angola            3\n",
      "Argentina        35\n",
      "               ... \n",
      "Venezuela        14\n",
      "Vietnam           1\n",
      "Yemen           833\n",
      "Zambia            0\n",
      "Zimbabwe          0\n",
      "Name: Incidents, Length: 163, dtype: int64\n",
      "----------------------\n",
      "fatalities by country : Country\n",
      "Afghanistan    12726\n",
      "Albania            0\n",
      "Algeria          196\n",
      "Angola             0\n",
      "Argentina          0\n",
      "               ...  \n",
      "Venezuela         38\n",
      "Vietnam            0\n",
      "Yemen           2547\n",
      "Zambia             0\n",
      "Zimbabwe           0\n",
      "Name: Fatalities, Length: 163, dtype: int64\n",
      "----------------------\n",
      "injuries by country : Country\n",
      "Afghanistan    21263\n",
      "Albania            0\n",
      "Algeria          240\n",
      "Angola             0\n",
      "Argentina          5\n",
      "               ...  \n",
      "Venezuela         19\n",
      "Vietnam            1\n",
      "Yemen           2992\n",
      "Zambia             0\n",
      "Zimbabwe           0\n",
      "Name: Injuries, Length: 163, dtype: int64\n",
      "----------------------\n",
      "hostages by country : Country\n",
      "Afghanistan    4101\n",
      "Albania           0\n",
      "Algeria         125\n",
      "Angola            0\n",
      "Argentina         0\n",
      "               ... \n",
      "Venezuela        12\n",
      "Vietnam           0\n",
      "Yemen           233\n",
      "Zambia            0\n",
      "Zimbabwe          0\n",
      "Name: Hostages, Length: 163, dtype: int64\n"
     ]
    }
   ],
   "source": [
    "print(f'incidents by country : {Incidents_by_country}')\n",
    "print('----------------------')\n",
    "print(f'fatalities by country : {Fatalities_by_country}')\n",
    "print('----------------------')\n",
    "print(f'injuries by country : {Injuries_by_country}')\n",
    "print('----------------------')\n",
    "print(f'hostages by country : {Hostages_by_country}')"
   ]
  },
  {
   "cell_type": "code",
   "execution_count": 64,
   "id": "9314ff4b",
   "metadata": {},
   "outputs": [
    {
     "name": "stdout",
     "output_type": "stream",
     "text": [
      "The country with the highest number of injuries is Iraq with 11183 incidents.\n"
     ]
    }
   ],
   "source": [
    "# Filter out None values before finding the country with the highest number of injuries\n",
    "filtered_incident_dict = {country: incidents for country, incidents in Incidents_by_country.items() if incidents is not None}\n",
    "\n",
    "if filtered_incident_dict:\n",
    "    # Find the country with the highest number of incidents\n",
    "    max_country = max(filtered_incident_dict, key=filtered_incident_dict.get)\n",
    "\n",
    "    # Get the maximum number of incidents\n",
    "    max_incident = filtered_incident_dict[max_country]\n",
    "\n",
    "    # Print the result\n",
    "    print(f\"The country with the highest number of injuries is {max_country} with {max_incident} incidents.\")\n",
    "else:\n",
    "    print(\"No valid data in the dictionary.\")"
   ]
  },
  {
   "cell_type": "markdown",
   "id": "31e8fb88",
   "metadata": {},
   "source": [
    "### Insights:\n",
    "* Iraq is suffered with more number of attacks of count 11183"
   ]
  },
  {
   "cell_type": "code",
   "execution_count": 65,
   "id": "0282a388",
   "metadata": {},
   "outputs": [
    {
     "name": "stdout",
     "output_type": "stream",
     "text": [
      "The country with the highest number of injuries is Iraq with 38381 injuries.\n"
     ]
    }
   ],
   "source": [
    "\n",
    "filtered_injuires_dict = {country: injuires for country, injuires in Injuries_by_country.items() if injuires is not None}\n",
    "\n",
    "if filtered_injuires_dict:\n",
    "    # Find the country with the highest number of injuries\n",
    "    max_country = max(filtered_injuires_dict, key=filtered_injuires_dict.get)\n",
    "\n",
    "    # Get the maximum number of injuries\n",
    "    max_injuries = filtered_injuires_dict[max_country]\n",
    "\n",
    "    # Print the result\n",
    "    print(f\"The country with the highest number of injuries is {max_country} with {max_injuries} injuries.\")\n",
    "else:\n",
    "    print(\"No valid data in the dictionary.\")"
   ]
  },
  {
   "cell_type": "code",
   "execution_count": 66,
   "id": "859c41ea",
   "metadata": {},
   "outputs": [
    {
     "name": "stdout",
     "output_type": "stream",
     "text": [
      "The country with the highest number of injuries is Iraq with 21286 deaths.\n"
     ]
    }
   ],
   "source": [
    "\n",
    "filtered_fatalities_dict = {country: fatalities for country, fatalities in Fatalities_by_country.items() if fatalities is not None}\n",
    "\n",
    "if filtered_fatalities_dict:\n",
    "    # Find the country with the highest number of fatalities\n",
    "    max_country = max(filtered_fatalities_dict, key=filtered_fatalities_dict.get)\n",
    "\n",
    "    # Get the maximum number of fatalities\n",
    "    max_fatalities = filtered_fatalities_dict[max_country]\n",
    "\n",
    "    # Print the result\n",
    "    print(f\"The country with the highest number of injuries is {max_country} with {max_fatalities} deaths.\")\n",
    "else:\n",
    "    print(\"No valid data in the dictionary.\")"
   ]
  },
  {
   "cell_type": "markdown",
   "id": "c139ba08",
   "metadata": {},
   "source": [
    "### Insights:\n",
    "* Iraq has suffered with more number of injuries and deaths due to terrorism.\n",
    "* 38381 injuries and 21286 deaths."
   ]
  },
  {
   "cell_type": "markdown",
   "id": "1a523ee6",
   "metadata": {},
   "source": [
    "## Information generated from the data:\n",
    "1. Year 2012 has recoreded high rank of 112\n",
    "2. Year 2016 has the highest score - 10.0\n",
    "3. Year 2013 has recoreded the high rate of injuries i.e 19304\n",
    "4. Year 2021 has recorded high number of incidents of 5443\n",
    "5. Year 2015 has recoreded more number of death due to terrorism i.e 10881 fatalities.\n",
    "6. Iraq is suffered with more number of attacks of count 11183\n",
    "7. Iraq has suffered with more number of injuries and deaths due to terrorism. i.e, 38381 injuries and 21286 deaths."
   ]
  },
  {
   "cell_type": "code",
   "execution_count": null,
   "id": "dcdd6f96",
   "metadata": {},
   "outputs": [],
   "source": []
  }
 ],
 "metadata": {
  "kernelspec": {
   "display_name": "Python 3 (ipykernel)",
   "language": "python",
   "name": "python3"
  },
  "language_info": {
   "codemirror_mode": {
    "name": "ipython",
    "version": 3
   },
   "file_extension": ".py",
   "mimetype": "text/x-python",
   "name": "python",
   "nbconvert_exporter": "python",
   "pygments_lexer": "ipython3",
   "version": "3.10.9"
  }
 },
 "nbformat": 4,
 "nbformat_minor": 5
}
